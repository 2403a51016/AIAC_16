{
  "nbformat": 4,
  "nbformat_minor": 0,
  "metadata": {
    "colab": {
      "provenance": [],
      "authorship_tag": "ABX9TyP8RqT2io5L3ZZXd4v0zxRh",
      "include_colab_link": true
    },
    "kernelspec": {
      "name": "python3",
      "display_name": "Python 3"
    },
    "language_info": {
      "name": "python"
    }
  },
  "cells": [
    {
      "cell_type": "markdown",
      "metadata": {
        "id": "view-in-github",
        "colab_type": "text"
      },
      "source": [
        "<a href=\"https://colab.research.google.com/github/2403a51016/AIAC_16/blob/main/lab2_3_t1.ipynb\" target=\"_parent\"><img src=\"https://colab.research.google.com/assets/colab-badge.svg\" alt=\"Open In Colab\"/></a>"
      ]
    },
    {
      "cell_type": "code",
      "execution_count": null,
      "metadata": {
        "id": "6KJnK4M15SZn"
      },
      "outputs": [],
      "source": []
    },
    {
      "cell_type": "markdown",
      "source": [
        "Task Description#1\n",
        "●\tUse Google Gemini in Colab to write a function that reads a CSV file and calculates mean, min, max.\n"
      ],
      "metadata": {
        "id": "yuZ0hykS6T6D"
      }
    },
    {
      "cell_type": "code",
      "source": [],
      "metadata": {
        "id": "aBmX4Ggu6Vo8"
      },
      "execution_count": null,
      "outputs": []
    },
    {
      "cell_type": "code",
      "metadata": {
        "colab": {
          "base_uri": "https://localhost:8080/"
        },
        "id": "6c79cfab",
        "outputId": "261a5fde-31b6-44f6-dd8a-957bc6d955a3"
      },
      "source": [
        "import pandas as pd\n",
        "\n",
        "def analyze_csv_data(file_path):\n",
        "  \"\"\"\n",
        "  Reads a CSV file, calculates the mean, minimum, and maximum of numerical columns.\n",
        "\n",
        "  Args:\n",
        "    file_path: The path to the CSV file.\n",
        "\n",
        "  Returns:\n",
        "    A dictionary containing the mean, minimum, and maximum for each numerical column,\n",
        "    or None if an error occurs or no numerical columns are found.\n",
        "  \"\"\"\n",
        "  try:\n",
        "    df = pd.read_csv(file_path)\n",
        "\n",
        "    # Select only numerical columns\n",
        "    numerical_df = df.select_dtypes(include=['number'])\n",
        "\n",
        "    if numerical_df.empty:\n",
        "      print(\"No numerical columns found in the CSV.\")\n",
        "      return None\n",
        "\n",
        "    mean_values = numerical_df.mean()\n",
        "    min_values = numerical_df.min()\n",
        "    max_values = numerical_df.max()\n",
        "\n",
        "    results = {\n",
        "        'mean': mean_values,\n",
        "        'min': min_values,\n",
        "        'max': max_values\n",
        "    }\n",
        "\n",
        "    return results\n",
        "\n",
        "  except FileNotFoundError:\n",
        "    print(f\"Error: File not found at {file_path}\")\n",
        "    return None\n",
        "  except Exception as e:\n",
        "    print(f\"An error occurred: {e}\")\n",
        "    return None\n",
        "\n",
        "# Example usage with the provided file path:\n",
        "file_path = \"/content/lab2_3.csv\"\n",
        "analysis_results = analyze_csv_data(file_path)\n",
        "\n",
        "if analysis_results:\n",
        "  print(\"\\nAnalysis Results:\")\n",
        "  for key, value in analysis_results.items():\n",
        "    print(f\"{key.capitalize()}:\\n{value}\\n\")"
      ],
      "execution_count": 1,
      "outputs": [
        {
          "output_type": "stream",
          "name": "stdout",
          "text": [
            "\n",
            "Analysis Results:\n",
            "Mean:\n",
            "23    62.555556\n",
            "dtype: float64\n",
            "\n",
            "Min:\n",
            "23    33\n",
            "dtype: int64\n",
            "\n",
            "Max:\n",
            "23    98\n",
            "dtype: int64\n",
            "\n"
          ]
        }
      ]
    }
  ]
}