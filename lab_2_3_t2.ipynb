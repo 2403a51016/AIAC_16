{
  "nbformat": 4,
  "nbformat_minor": 0,
  "metadata": {
    "colab": {
      "provenance": [],
      "authorship_tag": "ABX9TyPL83HBYLUVdZcQpUpAahwE",
      "include_colab_link": true
    },
    "kernelspec": {
      "name": "python3",
      "display_name": "Python 3"
    },
    "language_info": {
      "name": "python"
    }
  },
  "cells": [
    {
      "cell_type": "markdown",
      "metadata": {
        "id": "view-in-github",
        "colab_type": "text"
      },
      "source": [
        "<a href=\"https://colab.research.google.com/github/2403a51016/AIAC_16/blob/main/lab_2_3_t2.ipynb\" target=\"_parent\"><img src=\"https://colab.research.google.com/assets/colab-badge.svg\" alt=\"Open In Colab\"/></a>"
      ]
    },
    {
      "cell_type": "markdown",
      "source": [],
      "metadata": {
        "id": "SJMxc80Kjg2z"
      }
    },
    {
      "cell_type": "markdown",
      "source": [
        "Task Description#2\n",
        "●\tCompare Gemini and Copilot outputs for a palindrome check function.\n"
      ],
      "metadata": {
        "id": "8oof4oE6jhmD"
      }
    },
    {
      "cell_type": "code",
      "source": [
        "def is_palindrome(number):\n",
        "  \"\"\"\n",
        "  Checks if a given number is a palindrome.\n",
        "\n",
        "  Args:\n",
        "    number: The number to check.\n",
        "\n",
        "  Returns:\n",
        "    True if the number is a palindrome, False otherwise.\n",
        "  \"\"\"\n",
        "  # Convert the number to a string\n",
        "  num_str = str(number)\n",
        "\n",
        "  # Reverse the string\n",
        "  reversed_str = num_str[::-1]\n",
        "\n",
        "  # Check if the original string is equal to the reversed string\n",
        "  return num_str == reversed_str\n",
        "\n",
        "# Example usage\n",
        "print(is_palindrome(121))\n",
        "print(is_palindrome(123))"
      ],
      "metadata": {
        "colab": {
          "base_uri": "https://localhost:8080/"
        },
        "id": "gbzLHONqjilj",
        "outputId": "2ac60693-9560-4716-9d9d-554a6908e37b"
      },
      "execution_count": null,
      "outputs": [
        {
          "output_type": "stream",
          "name": "stdout",
          "text": [
            "True\n",
            "False\n"
          ]
        }
      ]
    }
  ]
}