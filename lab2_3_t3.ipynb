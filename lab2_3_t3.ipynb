{
  "nbformat": 4,
  "nbformat_minor": 0,
  "metadata": {
    "colab": {
      "provenance": [],
      "authorship_tag": "ABX9TyPtVnky42YbBfZIzhRswWP2",
      "include_colab_link": true
    },
    "kernelspec": {
      "name": "python3",
      "display_name": "Python 3"
    },
    "language_info": {
      "name": "python"
    }
  },
  "cells": [
    {
      "cell_type": "markdown",
      "metadata": {
        "id": "view-in-github",
        "colab_type": "text"
      },
      "source": [
        "<a href=\"https://colab.research.google.com/github/2403a51016/AIAC_16/blob/main/lab2_3_t3.ipynb\" target=\"_parent\"><img src=\"https://colab.research.google.com/assets/colab-badge.svg\" alt=\"Open In Colab\"/></a>"
      ]
    },
    {
      "cell_type": "code",
      "execution_count": null,
      "metadata": {
        "id": "LjrAwqTtpMA9"
      },
      "outputs": [],
      "source": []
    },
    {
      "cell_type": "markdown",
      "source": [
        "Task Description#3\n",
        "●\tAsk Gemini to explain a Python function (to calculate area of various shapes) line by line..\n"
      ],
      "metadata": {
        "id": "Xzzp7HRTpu80"
      }
    },
    {
      "cell_type": "code",
      "source": [],
      "metadata": {
        "id": "OrcUV-f3pvbX"
      },
      "execution_count": null,
      "outputs": []
    },
    {
      "cell_type": "code",
      "source": [
        "import math\n",
        "\n",
        "def calculate_area(shape, **kwargs):\n",
        "  \"\"\"\n",
        "  Calculates the area of various shapes.\n",
        "\n",
        "  Args:\n",
        "    shape: A string representing the shape (e.g., 'circle', 'rectangle', 'triangle', 'square').\n",
        "    **kwargs: Keyword arguments for the dimensions of the shape.\n",
        "\n",
        "  Returns:\n",
        "    The area of the shape, or None if the shape is not supported or dimensions are missing.\n",
        "  \"\"\"\n",
        "  shape = shape.lower()\n",
        "\n",
        "  if shape == 'circle':\n",
        "    if 'radius' in kwargs:\n",
        "      return math.pi * kwargs['radius']**2\n",
        "    else:\n",
        "      print(\"Error: Circle requires a 'radius'.\")\n",
        "      return None\n",
        "  elif shape == 'rectangle':\n",
        "    if 'length' in kwargs and 'width' in kwargs:\n",
        "      return kwargs['length'] * kwargs['width']\n",
        "    else:\n",
        "      print(\"Error: Rectangle requires 'length' and 'width'.\")\n",
        "      return None\n",
        "  elif shape == 'triangle':\n",
        "    if 'base' in kwargs and 'height' in kwargs:\n",
        "      return 0.5 * kwargs['base'] * kwargs['height']\n",
        "    else:\n",
        "      print(\"Error: Triangle requires 'base' and 'height'.\")\n",
        "      return None\n",
        "  elif shape == 'square':\n",
        "    if 'side' in kwargs:\n",
        "      return kwargs['side']**2\n",
        "    else:\n",
        "      print(\"Error: Square requires a 'side'.\")\n",
        "      return None\n",
        "  else:\n",
        "    print(f\"Error: Unsupported shape '{shape}'.\")\n",
        "    return None\n",
        "\n",
        "# Example usage:\n",
        "print(calculate_area('circle', radius=5))\n",
        "print(calculate_area('rectangle', length=4, width=6))\n",
        "print(calculate_area('triangle', base=3, height=7))\n",
        "print(calculate_area('square', side=5))"
      ],
      "metadata": {
        "colab": {
          "base_uri": "https://localhost:8080/"
        },
        "id": "pu-IpC4npwBz",
        "outputId": "3f8d4338-31bd-45fe-dd73-415db3dd78c7"
      },
      "execution_count": 1,
      "outputs": [
        {
          "output_type": "stream",
          "name": "stdout",
          "text": [
            "78.53981633974483\n",
            "24\n",
            "10.5\n",
            "25\n"
          ]
        }
      ]
    }
  ]
}